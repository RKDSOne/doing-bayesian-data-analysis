{
 "metadata": {
  "name": "",
  "signature": "sha256:2d61c6e6ed94ea0409d9f942946437052632e04d6ba49a63d37df5b92a3669d5"
 },
 "nbformat": 3,
 "nbformat_minor": 0,
 "worksheets": [
  {
   "cells": [
    {
     "cell_type": "code",
     "collapsed": false,
     "input": [
      "import pandas as pd"
     ],
     "language": "python",
     "metadata": {},
     "outputs": [],
     "prompt_number": 1
    },
    {
     "cell_type": "code",
     "collapsed": false,
     "input": [
      "import numpy as np"
     ],
     "language": "python",
     "metadata": {},
     "outputs": [],
     "prompt_number": 2
    },
    {
     "cell_type": "code",
     "collapsed": false,
     "input": [
      "import scipy.stats as stats\n",
      "import math"
     ],
     "language": "python",
     "metadata": {},
     "outputs": [],
     "prompt_number": 3
    },
    {
     "cell_type": "code",
     "collapsed": false,
     "input": [
      "%matplotlib inline\n",
      "from IPython.core.pylabtools import figsize\n",
      "import numpy as np\n",
      "from matplotlib import pyplot as plt"
     ],
     "language": "python",
     "metadata": {},
     "outputs": [],
     "prompt_number": 4
    },
    {
     "cell_type": "code",
     "collapsed": false,
     "input": [
      "num_tosses = 12\n",
      "num_heads = 3\n",
      "num_tails = num_tosses - num_heads"
     ],
     "language": "python",
     "metadata": {},
     "outputs": [],
     "prompt_number": 5
    },
    {
     "cell_type": "code",
     "collapsed": false,
     "input": [
      "figsize(12.5, 4)\n",
      "x = [.25,.5,.75]\n",
      "priors = [.25,.5,.75]\n",
      "plt.bar(x, priors, color=\"#A60628\", alpha=0.60, edgecolor=\"#A60628\", lw=\"1\", width=.01)\n",
      "plt.xlabel(\"Theta, probability of heads\")\n",
      "plt.ylabel(\"P(Theta)\")\n",
      "plt.title(\"Prior\")\n",
      "plt.xlim(0, 1);"
     ],
     "language": "python",
     "metadata": {},
     "outputs": [
      {
       "metadata": {},
       "output_type": "display_data",
       "png": "[encoded data removed]",
       "text": [
        "<matplotlib.figure.Figure at 0x1076de2d0>"
       ]
      }
     ],
     "prompt_number": 6
    },
    {
     "cell_type": "code",
     "collapsed": false,
     "input": [
      "def likelihood(theta,num_heads,num_tosses): \n",
      "    return math.pow(theta,num_heads)*math.pow(1-theta,num_tosses-num_heads)"
     ],
     "language": "python",
     "metadata": {},
     "outputs": [],
     "prompt_number": 7
    },
    {
     "cell_type": "code",
     "collapsed": false,
     "input": [
      "likelihoods = [likelihood(prior,3,12) for prior in priors]\n",
      "likelihoods"
     ],
     "language": "python",
     "metadata": {},
     "outputs": [
      {
       "metadata": {},
       "output_type": "pyout",
       "prompt_number": 9,
       "text": [
        "[0.0011731982231140137, 0.000244140625, 1.6093254089355469e-06]"
       ]
      }
     ],
     "prompt_number": 9
    },
    {
     "cell_type": "code",
     "collapsed": false,
     "input": [
      "figsize(12.5, 4)\n",
      "x = [.25,.5,.75]\n",
      "priors = [.25,.5,.75]\n",
      "plt.bar(x, likelihoods, color=\"#A60628\", alpha=0.60, edgecolor=\"#A60628\", lw=\"1\", width=.01)\n",
      "plt.xlabel(\"Theta, probability of heads\")\n",
      "plt.ylabel(\"P(Theta)\")\n",
      "plt.title(\"Likelihood\")\n",
      "plt.xlim(0, 1);"
     ],
     "language": "python",
     "metadata": {},
     "outputs": [
      {
       "metadata": {},
       "output_type": "display_data",
       "png": "[encoded data removed]",
       "text": [
        "<matplotlib.figure.Figure at 0x1077d9510>"
       ]
      }
     ],
     "prompt_number": 10
    },
    {
     "cell_type": "code",
     "collapsed": false,
     "input": [
      "evidence = 0.0\n",
      "for p in priors:\n",
      "    evidence += sum([p*likelihood(p,3,12)])\n",
      "print(evidence)"
     ],
     "language": "python",
     "metadata": {},
     "outputs": [
      {
       "output_type": "stream",
       "stream": "stdout",
       "text": [
        "0.000416576862335\n"
       ]
      }
     ],
     "prompt_number": 28
    },
    {
     "cell_type": "code",
     "collapsed": false,
     "input": [
      "likelihood_times_prior = np.array([p*likelihood(p,3,12) for p in priors])\n",
      "posterior =likelihood_times_prior/evidence #bayes equation"
     ],
     "language": "python",
     "metadata": {},
     "outputs": [],
     "prompt_number": 34
    },
    {
     "cell_type": "code",
     "collapsed": false,
     "input": [
      "figsize(12.5, 4)\n",
      "x = [.25,.5,.75]\n",
      "priors = [.25,.5,.75]\n",
      "plt.bar(x, posterior, color=\"#A60628\", alpha=0.60, edgecolor=\"#A60628\", lw=\"1\", width=.01)\n",
      "plt.xlabel(\"Theta, probability of heads\")\n",
      "plt.ylabel(\"P(Theta)\")\n",
      "plt.title(\"Posterior\")\n",
      "plt.xlim(0, 1);"
     ],
     "language": "python",
     "metadata": {},
     "outputs": [
      {
       "metadata": {},
       "output_type": "display_data",
       "png": "[encoded data removed]",
       "text": [
        "<matplotlib.figure.Figure at 0x107c5f690>"
       ]
      }
     ],
     "prompt_number": 35
    },
    {
     "cell_type": "code",
     "collapsed": false,
     "input": [],
     "language": "python",
     "metadata": {},
     "outputs": []
    }
   ],
   "metadata": {}
  }
 ]
}