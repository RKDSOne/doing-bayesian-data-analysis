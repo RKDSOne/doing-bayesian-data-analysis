{
 "metadata": {
  "name": "",
  "signature": "sha256:448c4a4db76cdc51fe472aadab638687009e63d6dfd7c3f50009ce1105df6ea0"
 },
 "nbformat": 3,
 "nbformat_minor": 0,
 "worksheets": []
}