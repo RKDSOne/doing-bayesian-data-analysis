{
 "metadata": {
  "name": "",
  "signature": "sha256:d1c0a4d637e87b14fdba1976b8b50fda7ec88337dc0d5c2171da0daa7f9d46ec"
 },
 "nbformat": 3,
 "nbformat_minor": 0,
 "worksheets": [
  {
   "cells": [
    {
     "cell_type": "code",
     "collapsed": false,
     "input": [
      "import pandas as pd"
     ],
     "language": "python",
     "metadata": {},
     "outputs": [],
     "prompt_number": 2
    },
    {
     "cell_type": "code",
     "collapsed": false,
     "input": [
      "import numpy as np"
     ],
     "language": "python",
     "metadata": {},
     "outputs": [],
     "prompt_number": 10
    },
    {
     "cell_type": "code",
     "collapsed": false,
     "input": [
      "import scipy.stats as stats\n",
      "import math"
     ],
     "language": "python",
     "metadata": {},
     "outputs": [],
     "prompt_number": 32
    },
    {
     "cell_type": "code",
     "collapsed": false,
     "input": [
      "%matplotlib inline\n",
      "from IPython.core.pylabtools import figsize\n",
      "import numpy as np\n",
      "from matplotlib import pyplot as plt"
     ],
     "language": "python",
     "metadata": {},
     "outputs": [],
     "prompt_number": 46
    },
    {
     "cell_type": "code",
     "collapsed": false,
     "input": [
      "num_tosses = 12\n",
      "num_heads = 3\n",
      "num_tails = num_tosses - num_heads"
     ],
     "language": "python",
     "metadata": {},
     "outputs": [],
     "prompt_number": 14
    },
    {
     "cell_type": "code",
     "collapsed": false,
     "input": [
      "figsize(12.5, 4)\n",
      "x = [.25,.5,.75]\n",
      "priors = [.25,.5,.75]\n",
      "plt.bar(x, priors, color=\"#A60628\", alpha=0.60, edgecolor=\"#A60628\", lw=\"1\", width=.01)\n",
      "plt.xlabel(\"Theta, probability of heads\")\n",
      "plt.ylabel(\"P(Theta)\")\n",
      "plt.title(\"Prior\")\n",
      "plt.xlim(0, 1);"
     ],
     "language": "python",
     "metadata": {},
     "outputs": [
      {
       "metadata": {},
       "output_type": "display_data",
       "png": "[encoded data removed]",
       "text": [
        "<matplotlib.figure.Figure at 0x10a4a9cd0>"
       ]
      }
     ],
     "prompt_number": 44
    },
    {
     "cell_type": "code",
     "collapsed": false,
     "input": [
      "def likelihood(theta,num_heads,num_tosses): return math.pow(theta,num_heads)*math.pow(1-theta,num_tosses-num_heads)"
     ],
     "language": "python",
     "metadata": {},
     "outputs": [],
     "prompt_number": 35
    },
    {
     "cell_type": "code",
     "collapsed": false,
     "input": [
      "likelihoods = [liklihood(prior,3,12) for prior in priors]\n",
      "likelihoods"
     ],
     "language": "python",
     "metadata": {},
     "outputs": [
      {
       "metadata": {},
       "output_type": "pyout",
       "prompt_number": 41,
       "text": [
        "[0.0011731982231140137, 0.000244140625, 1.6093254089355469e-06]"
       ]
      }
     ],
     "prompt_number": 41
    },
    {
     "cell_type": "code",
     "collapsed": false,
     "input": [
      "figsize(12.5, 4)\n",
      "x = [.25,.5,.75]\n",
      "priors = [.25,.5,.75]\n",
      "plt.bar(x, likelihoods, color=\"#A60628\", alpha=0.60, edgecolor=\"#A60628\", lw=\"1\", width=.01)\n",
      "plt.xlabel(\"Theta, probability of heads\")\n",
      "plt.ylabel(\"P(Theta)\")\n",
      "plt.title(\"Likelihood\")\n",
      "plt.xlim(0, 1);"
     ],
     "language": "python",
     "metadata": {},
     "outputs": [
      {
       "metadata": {},
       "output_type": "display_data",
       "png": "[encoded data removed]",
       "text": [
        "<matplotlib.figure.Figure at 0x10b258310>"
       ]
      }
     ],
     "prompt_number": 45
    },
    {
     "cell_type": "code",
     "collapsed": false,
     "input": [
      "total = 0.0\n",
      "for p in [.25,.5,.75]:\n",
      "    total += sum([liklihood(p,i,12) for i in range(12)])\n",
      "print(total)"
     ],
     "language": "python",
     "metadata": {},
     "outputs": [
      {
       "output_type": "stream",
       "stream": "stdout",
       "text": [
        "0.0662822723389\n"
       ]
      }
     ],
     "prompt_number": 48
    }
   ],
   "metadata": {}
  }
 ]
}